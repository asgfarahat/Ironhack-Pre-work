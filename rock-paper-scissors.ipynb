{
 "cells": [
  {
   "cell_type": "markdown",
   "metadata": {},
   "source": [
    "<img src=\"https://bit.ly/2VnXWr2\" width=\"100\" align=\"left\">"
   ]
  },
  {
   "cell_type": "markdown",
   "metadata": {},
   "source": [
    "# Rock, Paper & Scissors\n",
    "\n",
    "Let's play the famous game against our computer. You can check the rules [here](https://en.wikipedia.org/wiki/Rock%E2%80%93paper%E2%80%93scissors). \n",
    "\n",
    "## Task\n",
    "Create a program that imitates the playability of the well known game of rock, paper, scissors. Follow the guidelines provided.\n",
    "\n",
    "## Tools\n",
    "1. Loop: **for/while**\n",
    "2. Functions: **input(), print()...**\n",
    "3. Conditional statements: **if, elif, else**\n",
    "4. Definition of functions. Modular programming\n",
    "5. Import modules\n",
    "\n",
    "**To solve this challenge, the use of functions is recommended.**\n",
    "\n",
    "#### 1. Import the choice function of the random module."
   ]
  },
  {
   "cell_type": "code",
   "execution_count": 1370,
   "metadata": {},
   "outputs": [],
   "source": [
    "from random import choices\n"
   ]
  },
  {
   "cell_type": "markdown",
   "metadata": {},
   "source": [
    "#### 2. Create a list that includes the 3 possible gesture options of the game: 'rock', 'paper' or 'scissors'. Store the list in a variable called `gestures`."
   ]
  },
  {
   "cell_type": "code",
   "execution_count": 1371,
   "metadata": {},
   "outputs": [],
   "source": [
    "gestures = ['rock', 'paper', 'scissors']\n"
   ]
  },
  {
   "cell_type": "markdown",
   "metadata": {},
   "source": [
    "#### 3. Create a variable called `n_rounds` to store the maximum number of rounds to play in a game. \n",
    "Remember that the number of rounds must be odd: 1, 3, 5, ..."
   ]
  },
  {
   "cell_type": "code",
   "execution_count": 1372,
   "metadata": {},
   "outputs": [],
   "source": [
    "n_rounds = 5"
   ]
  },
  {
   "cell_type": "markdown",
   "metadata": {},
   "source": [
    "#### 4. Create a variable called `rounds_to_win` to store the number of rounds that a player must win to win the game.\n",
    "**Hint**: the value stored in `rounds_to_win` depends on the value of `n_rounds`. "
   ]
  },
  {
   "cell_type": "code",
   "execution_count": 1373,
   "metadata": {},
   "outputs": [],
   "source": [
    "rounds_to_win = 3"
   ]
  },
  {
   "cell_type": "markdown",
   "metadata": {},
   "source": [
    "#### 5. Create two variables to store the number of rounds that the computer and the player have won. Call these variables `cpu_score` and `player_score`."
   ]
  },
  {
   "cell_type": "code",
   "execution_count": 1374,
   "metadata": {},
   "outputs": [],
   "source": [
    "cpu_score = 0\n",
    "player_score = 0"
   ]
  },
  {
   "cell_type": "markdown",
   "metadata": {},
   "source": [
    "#### 6. Define a function that randomly returns one of the 3 gesture options.\n",
    "You will use this function to simulate the gesture choice of the computer. "
   ]
  },
  {
   "cell_type": "code",
   "execution_count": 1375,
   "metadata": {},
   "outputs": [],
   "source": [
    "def machine():\n",
    "    return choices(gestures) "
   ]
  },
  {
   "cell_type": "markdown",
   "metadata": {},
   "source": [
    "#### 7. Define a function that asks the player which is the gesture he or she wants to show: 'rock', 'paper' or 'scissors'.\n",
    "The player should only be allowed to choose one of the 3 gesture options. If the player's choice is not rock, paper or scissors, keep asking until it is."
   ]
  },
  {
   "cell_type": "code",
   "execution_count": 1376,
   "metadata": {},
   "outputs": [],
   "source": [
    "def player():\n",
    "    global gestures\n",
    "    play = input(\"What are you playing? Please type in rock, paper or scissors\")\n",
    "    while (play not in gestures):\n",
    "        print(\"Only 'rock', 'paper' or 'scissors' allowed! \")\n",
    "        play = input(\"What are you playing again?\")\n",
    "    return play"
   ]
  },
  {
   "cell_type": "markdown",
   "metadata": {},
   "source": [
    "#### 8. Define a function that checks who won a round. \n",
    "The function should return 0 if there is a tie, 1 if the computer wins and 2 if the player wins."
   ]
  },
  {
   "cell_type": "code",
   "execution_count": 1377,
   "metadata": {},
   "outputs": [],
   "source": [
    "def whoWon(man, makina):\n",
    "    global randomChoice\n",
    "  #  global play_\n",
    "    randomChoice = machine()[0]\n",
    "    makina = randomChoice\n",
    "    global play\n",
    "    play = player()\n",
    "    man = play\n",
    "    global who\n",
    "    if(play == randomChoice):\n",
    "        who = 0\n",
    "    elif(play == 'rock' and randomChoice == 'paper'):\n",
    "        who = 1\n",
    "    elif(play == 'rock' and randomChoice == 'scissors'):\n",
    "        who = 2\n",
    "    elif(play == 'paper' and randomChoice == 'rock'):\n",
    "        who = 2\n",
    "    elif(play == 'paper' and randomChoice == 'scissors'):\n",
    "        who = 1\n",
    "    elif(play == 'scissors' and randomChoice == 'rock'):\n",
    "        who = 1\n",
    "    elif(play == 'scissors' and randomChoice == 'paper'):\n",
    "        who = 2\n",
    "    return who"
   ]
  },
  {
   "cell_type": "markdown",
   "metadata": {},
   "source": [
    "#### 9. Define a function that prints the choice of the computer, the choice of the player and a message that announces who won the current round. \n",
    "You should also use this function to update the variables that count the number of rounds that the computer and the player have won. The score of the winner increases by one point. If there is a tie, the score does not increase."
   ]
  },
  {
   "cell_type": "code",
   "execution_count": 1378,
   "metadata": {},
   "outputs": [],
   "source": [
    "def gameRound():\n",
    "    global n_rounds\n",
    "    global cpu_score\n",
    "    global player_score\n",
    "    global rounds_to_win\n",
    "    whoWon(player(),machine())\n",
    "    print(\"Computer choice is\", randomChoice)\n",
    "    print(\"Player choice is\", play)\n",
    "    n_rounds -=1\n",
    "    if (who is 0):\n",
    "        print(\"IT's A TIE!\")\n",
    "    elif (who is 1):\n",
    "        cpu_score +=1\n",
    "        rounds_to_win -=1\n",
    "        print(\"Machine WINS!\")\n",
    "    elif (who is 2):\n",
    "        player_score +=1\n",
    "        rounds_to_win -=1\n",
    "        print(\"YOU WIN!\")\n",
    "    print(\"your score\", player_score,\"Machine score\", cpu_score,\"rounds left\", n_rounds,\"rounds to win\", rounds_to_win) \n",
    "    return"
   ]
  },
  {
   "cell_type": "markdown",
   "metadata": {},
   "source": [
    "#### 10. Now it's time to code the execution of the game using the functions and variables you defined above. \n",
    "\n",
    "First, create a loop structure that repeats while no player reaches the minimum score necessary to win and the number of rounds is less than the maximum number of rounds to play in a game.  \n",
    "\n",
    "Inside the loop, use the functions and variables above to create the execution of a round: ask for the player's choice, generate the random choice of the computer, show the round results, update the scores, etc. "
   ]
  },
  {
   "cell_type": "code",
   "execution_count": 1379,
   "metadata": {},
   "outputs": [
    {
     "name": "stdout",
     "output_type": "stream",
     "text": [
      "What are you playing? Please type in rock, paper or scissorsrock\n",
      "What are you playing? Please type in rock, paper or scissorsrock\n",
      "Computer choice is paper\n",
      "Player choice is rock\n",
      "Machine WINS!\n",
      "your score 0 Machine score 1 rounds left 4 rounds to win 2\n",
      "GOOD GAME!\n",
      "What are you playing? Please type in rock, paper or scissorspaper\n",
      "What are you playing? Please type in rock, paper or scissorspaper\n",
      "Computer choice is scissors\n",
      "Player choice is paper\n",
      "Machine WINS!\n",
      "your score 0 Machine score 2 rounds left 3 rounds to win 1\n",
      "GOOD GAME!\n",
      "What are you playing? Please type in rock, paper or scissorsoaoer\n",
      "Only 'rock', 'paper' or 'scissors' allowed! \n",
      "What are you playing again?paper\n",
      "What are you playing? Please type in rock, paper or scissorspaper\n",
      "Computer choice is scissors\n",
      "Player choice is paper\n",
      "Machine WINS!\n",
      "your score 0 Machine score 3 rounds left 2 rounds to win 0\n",
      "GOOD GAME!\n",
      "What are you playing? Please type in rock, paper or scissorsrock\n",
      "What are you playing? Please type in rock, paper or scissorsrock\n",
      "Computer choice is rock\n",
      "Player choice is rock\n",
      "IT's A TIE!\n",
      "your score 0 Machine score 3 rounds left 1 rounds to win 0\n",
      "GOOD GAME!\n",
      "What are you playing? Please type in rock, paper or scissorsscissors\n",
      "What are you playing? Please type in rock, paper or scissorsscissors\n",
      "Computer choice is paper\n",
      "Player choice is scissors\n",
      "YOU WIN!\n",
      "your score 1 Machine score 3 rounds left 0 rounds to win -1\n",
      "GOOD GAME!\n",
      "What are you playing? Please type in rock, paper or scissorspaper\n",
      "What are you playing? Please type in rock, paper or scissorspaper\n",
      "Computer choice is paper\n",
      "Player choice is paper\n",
      "IT's A TIE!\n",
      "your score 1 Machine score 3 rounds left -1 rounds to win -1\n",
      "GOOD GAME!\n"
     ]
    }
   ],
   "source": [
    "def game():\n",
    "    while(rounds_to_win >= 0 or n_rounds >= 0):\n",
    "        gameRound()\n",
    "        print(\"GOOD GAME!\")\n",
    "    return\n",
    "game()\n",
    "       \n",
    "\n",
    "\n",
    "    \n",
    "    "
   ]
  },
  {
   "cell_type": "markdown",
   "metadata": {},
   "source": [
    "#### 11. Print the winner of the game based on who won more rounds.\n",
    "Remember that the game might be tied. "
   ]
  },
  {
   "cell_type": "code",
   "execution_count": 1380,
   "metadata": {},
   "outputs": [
    {
     "name": "stdout",
     "output_type": "stream",
     "text": [
      "MACHINE WINs THE WHOLE GAME!\n"
     ]
    }
   ],
   "source": [
    "if(cpu_score > player_score):\n",
    "    print(\"MACHINE WINs THE WHOLE GAME!\")\n",
    "elif(cpu_score < player_score):\n",
    "    print(\"YOU WIN THE WHOLE GAME!\")\n",
    "else:\n",
    "    print(\"TIE! TRY AGAIN!\")"
   ]
  },
  {
   "cell_type": "markdown",
   "metadata": {},
   "source": [
    "# Bonus: Rock, Paper, Scissors, Lizard & Spock\n",
    "![](images/rpsls.jpg)\n",
    "\n",
    "In this challenge, you need to improve the previous game by adding two new options. To know more about the rules of the improved version of rock, paper, scissors, check this [link](http://www.samkass.com/theories/RPSSL.html). \n",
    "\n",
    "In addition, you will also need to improve how the game interacts with the player: the number of rounds to play, which must be an odd number, will be requested to the user until a valid number is entered. Define a new function to make that request.\n",
    "\n",
    "**Hint**: Try to reuse the code that you already coded in the previous challenge. If your code is efficient, this bonus will only consist of simple modifications to the original game."
   ]
  },
  {
   "cell_type": "code",
   "execution_count": null,
   "metadata": {},
   "outputs": [],
   "source": []
  },
  {
   "cell_type": "code",
   "execution_count": null,
   "metadata": {},
   "outputs": [],
   "source": []
  }
 ],
 "metadata": {
  "kernelspec": {
   "display_name": "Python 3",
   "language": "python",
   "name": "python3"
  },
  "language_info": {
   "codemirror_mode": {
    "name": "ipython",
    "version": 3
   },
   "file_extension": ".py",
   "mimetype": "text/x-python",
   "name": "python",
   "nbconvert_exporter": "python",
   "pygments_lexer": "ipython3",
   "version": "3.7.5"
  }
 },
 "nbformat": 4,
 "nbformat_minor": 2
}
